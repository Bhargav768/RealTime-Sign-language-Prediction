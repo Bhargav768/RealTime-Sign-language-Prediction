{
 "cells": [
  {
   "cell_type": "code",
   "execution_count": 1,
   "id": "7d310ea3-c1f8-4e34-8fed-46a8345f0bd4",
   "metadata": {},
   "outputs": [],
   "source": [
    "import tensorflow.compat.v2 as tf\n",
    "import tensorflow_datasets as tfds\n",
    "import tensorflow.keras\n",
    "# tf.enable_v2_behavior()\n",
    "import keras\n",
    "from tensorflow.python.framework.ops import disable_eager_execution\n",
    "disable_eager_execution()\n"
   ]
  },
  {
   "cell_type": "code",
   "execution_count": 2,
   "id": "703769fd-beb3-4a86-b213-52eb434a68f8",
   "metadata": {},
   "outputs": [],
   "source": [
    "import numpy as np\n",
    "import matplotlib.pyplot as plt"
   ]
  },
  {
   "cell_type": "code",
   "execution_count": 3,
   "id": "6dba434d-ba0d-4ee7-9d8b-79475a59120d",
   "metadata": {},
   "outputs": [],
   "source": [
    "from tensorflow.python.compiler.mlcompute import mlcompute\n",
    "mlcompute.set_mlc_device(device_name='gpu')"
   ]
  },
  {
   "cell_type": "code",
   "execution_count": 65,
   "id": "81fd4bfd-a483-4b6b-8d85-30e25f6feda2",
   "metadata": {},
   "outputs": [
    {
     "name": "stdout",
     "output_type": "stream",
     "text": [
      "Found 1401 images belonging to 3 classes.\n",
      "Found 465 images belonging to 3 classes.\n"
     ]
    }
   ],
   "source": [
    "from keras.preprocessing.image import ImageDataGenerator\n",
    "sz=128\n",
    "train_datagen = ImageDataGenerator(\n",
    "        rescale=1./255,\n",
    "        shear_range=0.2,\n",
    "        zoom_range=0.2,\n",
    "        horizontal_flip=True)\n",
    "\n",
    "test_datagen = ImageDataGenerator(rescale=1./255)\n",
    "\n",
    "training_set = train_datagen.flow_from_directory('/Users/doddaballapurabhishek/Desktop/Major/dataConfusionLetters/data_dru/train',\n",
    "                                                 target_size=(sz, sz),\n",
    "                                                 batch_size=10,\n",
    "                                                 color_mode='grayscale',\n",
    "                                                 class_mode='categorical')\n",
    "\n",
    "test_set = test_datagen.flow_from_directory('/Users/doddaballapurabhishek/Desktop/Major/dataConfusionLetters/data_dru/test',\n",
    "                                            target_size=(sz , sz),\n",
    "                                            batch_size=10,\n",
    "                                            color_mode='grayscale',\n",
    "                                            class_mode='categorical')"
   ]
  },
  {
   "cell_type": "code",
   "execution_count": 66,
   "id": "e0281dd7-e1b2-419f-b53d-cccd20557df0",
   "metadata": {},
   "outputs": [],
   "source": [
    "model = keras.models.Sequential([\n",
    "   \n",
    "    tf.keras.layers.Conv2D(32, kernel_size=(3, 3),input_shape=(sz, sz, 1),activation='relu'),\n",
    "    tf.keras.layers.MaxPooling2D(pool_size=(2, 2)),\n",
    "    tf.keras.layers.Conv2D(32, kernel_size=(3, 3),activation='relu'),\n",
    "    tf.keras.layers.MaxPooling2D(pool_size=(2, 2)),\n",
    "    tf.keras.layers.Flatten(),\n",
    "    tf.keras.layers.Dense(128, activation='relu'),\n",
    "    tf.keras.layers.Dropout(0.4),\n",
    "    tf.keras.layers.Dense(96, activation='relu'),\n",
    "    tf.keras.layers.Dropout(0.4),\n",
    "    tf.keras.layers.Dense(64, activation='relu'),\n",
    "    tf.keras.layers.Dense(3, activation='softmax')\n",
    "])\n",
    "    \n",
    "    "
   ]
  },
  {
   "cell_type": "code",
   "execution_count": 67,
   "id": "cbf3f68e-b868-4c3d-a7a7-cb4716e2b91e",
   "metadata": {
    "tags": []
   },
   "outputs": [],
   "source": [
    "model.compile(\n",
    "    loss='categorical_crossentropy',\n",
    "    optimizer=tf.keras.optimizers.Adam(0.001),\n",
    "    metrics=['accuracy']\n",
    ")"
   ]
  },
  {
   "cell_type": "code",
   "execution_count": 68,
   "id": "57b9335f-9466-4dcc-a312-c44daa51dfe1",
   "metadata": {},
   "outputs": [
    {
     "name": "stdout",
     "output_type": "stream",
     "text": [
      "Model: \"sequential_7\"\n",
      "_________________________________________________________________\n",
      "Layer (type)                 Output Shape              Param #   \n",
      "=================================================================\n",
      "conv2d_14 (Conv2D)           (None, 126, 126, 32)      320       \n",
      "_________________________________________________________________\n",
      "max_pooling2d_14 (MaxPooling (None, 63, 63, 32)        0         \n",
      "_________________________________________________________________\n",
      "conv2d_15 (Conv2D)           (None, 61, 61, 32)        9248      \n",
      "_________________________________________________________________\n",
      "max_pooling2d_15 (MaxPooling (None, 30, 30, 32)        0         \n",
      "_________________________________________________________________\n",
      "flatten_7 (Flatten)          (None, 28800)             0         \n",
      "_________________________________________________________________\n",
      "dense_28 (Dense)             (None, 128)               3686528   \n",
      "_________________________________________________________________\n",
      "dropout_14 (Dropout)         (None, 128)               0         \n",
      "_________________________________________________________________\n",
      "dense_29 (Dense)             (None, 96)                12384     \n",
      "_________________________________________________________________\n",
      "dropout_15 (Dropout)         (None, 96)                0         \n",
      "_________________________________________________________________\n",
      "dense_30 (Dense)             (None, 64)                6208      \n",
      "_________________________________________________________________\n",
      "dense_31 (Dense)             (None, 3)                 195       \n",
      "=================================================================\n",
      "Total params: 3,714,883\n",
      "Trainable params: 3,714,883\n",
      "Non-trainable params: 0\n",
      "_________________________________________________________________\n"
     ]
    }
   ],
   "source": [
    "model.summary()"
   ]
  },
  {
   "cell_type": "code",
   "execution_count": 69,
   "id": "0806af0f-8b29-4f4e-8405-471dfd463c77",
   "metadata": {},
   "outputs": [
    {
     "name": "stdout",
     "output_type": "stream",
     "text": [
      "Epoch 1/12\n",
      "141/141 [==============================] - 4s 24ms/step - batch: 70.0000 - size: 9.9362 - loss: 1.1320 - accuracy: 0.3426 - val_loss: 1.0987 - val_accuracy: 0.3591\n",
      "Epoch 2/12\n",
      "141/141 [==============================] - 3s 22ms/step - batch: 70.0000 - size: 9.9362 - loss: 0.8253 - accuracy: 0.5981 - val_loss: 0.2580 - val_accuracy: 0.8925\n",
      "Epoch 3/12\n",
      "141/141 [==============================] - 3s 23ms/step - batch: 70.0000 - size: 9.9362 - loss: 0.2907 - accuracy: 0.8879 - val_loss: 0.0601 - val_accuracy: 0.9871\n",
      "Epoch 4/12\n",
      "141/141 [==============================] - 3s 22ms/step - batch: 70.0000 - size: 9.9362 - loss: 0.1913 - accuracy: 0.9365 - val_loss: 0.0357 - val_accuracy: 0.9914\n",
      "Epoch 5/12\n",
      "141/141 [==============================] - 3s 23ms/step - batch: 70.0000 - size: 9.9362 - loss: 0.1353 - accuracy: 0.9543 - val_loss: 0.0554 - val_accuracy: 0.9785\n",
      "Epoch 6/12\n",
      "141/141 [==============================] - 3s 22ms/step - batch: 70.0000 - size: 9.9362 - loss: 0.0906 - accuracy: 0.9686 - val_loss: 0.0237 - val_accuracy: 0.9871\n",
      "Epoch 7/12\n",
      "141/141 [==============================] - 3s 23ms/step - batch: 70.0000 - size: 9.9362 - loss: 0.0770 - accuracy: 0.9729 - val_loss: 0.0101 - val_accuracy: 0.9957\n",
      "Epoch 8/12\n",
      "141/141 [==============================] - 3s 22ms/step - batch: 70.0000 - size: 9.9362 - loss: 0.0539 - accuracy: 0.9836 - val_loss: 0.0100 - val_accuracy: 0.9978\n",
      "Epoch 9/12\n",
      "141/141 [==============================] - 3s 22ms/step - batch: 70.0000 - size: 9.9362 - loss: 0.0637 - accuracy: 0.9829 - val_loss: 0.0072 - val_accuracy: 0.9978\n",
      "Epoch 10/12\n",
      "141/141 [==============================] - 3s 23ms/step - batch: 70.0000 - size: 9.9362 - loss: 0.0505 - accuracy: 0.9814 - val_loss: 0.0103 - val_accuracy: 0.9978\n",
      "Epoch 11/12\n",
      "141/141 [==============================] - 3s 23ms/step - batch: 70.0000 - size: 9.9362 - loss: 0.0573 - accuracy: 0.9807 - val_loss: 0.0101 - val_accuracy: 0.9957\n",
      "Epoch 12/12\n",
      "141/141 [==============================] - 3s 22ms/step - batch: 70.0000 - size: 9.9362 - loss: 0.1150 - accuracy: 0.9657 - val_loss: 0.0171 - val_accuracy: 0.9978\n"
     ]
    },
    {
     "data": {
      "text/plain": [
       "<tensorflow.python.keras.callbacks.History at 0x2958e1c10>"
      ]
     },
     "execution_count": 69,
     "metadata": {},
     "output_type": "execute_result"
    }
   ],
   "source": [
    "model.fit(\n",
    "    training_set,\n",
    "    epochs=12,\n",
    "    validation_data=test_set,\n",
    ")"
   ]
  },
  {
   "cell_type": "code",
   "execution_count": 70,
   "id": "99465b0b-1035-4624-a591-0926c110e19f",
   "metadata": {},
   "outputs": [
    {
     "name": "stdout",
     "output_type": "stream",
     "text": [
      "Model Saved\n",
      "Weights saved\n"
     ]
    }
   ],
   "source": [
    "model_json = model.to_json()\n",
    "with open(\"model-e12data-dru.json\", \"w\") as json_file:\n",
    "    json_file.write(model_json)\n",
    "print('Model Saved')\n",
    "model.save_weights('model-e12data-dru.h5')\n",
    "print('Weights saved')"
   ]
  },
  {
   "cell_type": "code",
   "execution_count": 71,
   "id": "38028033-d58b-450b-af45-676cdf1253a8",
   "metadata": {},
   "outputs": [
    {
     "data": {
      "image/png": "[encoded data removed]",
      "text/plain": [
       "<Figure size 432x288 with 1 Axes>"
      ]
     },
     "metadata": {
      "needs_background": "light"
     },
     "output_type": "display_data"
    }
   ],
   "source": [
    "plt.plot(model.history.history['loss'])\n",
    "plt.plot(model.history.history['val_loss'])\n",
    "plt.title('Model Loss')\n",
    "plt.ylabel('Loss')\n",
    "plt.xlabel('Epochs')\n",
    "plt.legend(['train', 'test'])\n",
    "plt.show()"
   ]
  },
  {
   "cell_type": "code",
   "execution_count": 72,
   "id": "0e45a32b-f56f-48ef-9a48-bfef8add7ac6",
   "metadata": {},
   "outputs": [
    {
     "data": {
      "image/png": "[encoded data removed]",
      "text/plain": [
       "<Figure size 432x288 with 1 Axes>"
      ]
     },
     "metadata": {
      "needs_background": "light"
     },
     "output_type": "display_data"
    }
   ],
   "source": [
    "plt.plot(model.history.history\n",
    "         ['accuracy'])\n",
    "plt.plot(model.history.history['val_accuracy'])\n",
    "plt.title('Model Accuracy')\n",
    "plt.ylabel('Accuracy')\n",
    "plt.xlabel('Epochs')\n",
    "plt.legend(['train', 'test'])\n",
    "plt.show()"
   ]
  },
  {
   "cell_type": "code",
   "execution_count": null,
   "id": "50626776-e30c-4b63-9a10-cc468939ce54",
   "metadata": {},
   "outputs": [],
   "source": []
  },
  {
   "cell_type": "code",
   "execution_count": null,
   "id": "377e33ff-0824-4aef-9751-abb8e3fc3527",
   "metadata": {},
   "outputs": [],
   "source": []
  }
 ],
 "metadata": {
  "kernelspec": {
   "display_name": "Python 3",
   "language": "python",
   "name": "python3"
  },
  "language_info": {
   "codemirror_mode": {
    "name": "ipython",
    "version": 3
   },
   "file_extension": ".py",
   "mimetype": "text/x-python",
   "name": "python",
   "nbconvert_exporter": "python",
   "pygments_lexer": "ipython3",
   "version": "3.8.6"
  }
 },
 "nbformat": 4,
 "nbformat_minor": 5
}
