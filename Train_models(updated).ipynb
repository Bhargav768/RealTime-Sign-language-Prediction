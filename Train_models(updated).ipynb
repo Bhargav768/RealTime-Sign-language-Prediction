{
 "cells": [
  {
   "cell_type": "code",
   "execution_count": 2,
   "id": "7d310ea3-c1f8-4e34-8fed-46a8345f0bd4",
   "metadata": {},
   "outputs": [],
   "source": [
    "import tensorflow.compat.v2 as tf\n",
    "import tensorflow_datasets as tfds\n",
    "import tensorflow.keras\n",
    "# tf.enable_v2_behavior()\n",
    "import keras\n",
    "from tensorflow.python.framework.ops import disable_eager_execution\n",
    "disable_eager_execution()\n"
   ]
  },
  {
   "cell_type": "code",
   "execution_count": 62,
   "id": "703769fd-beb3-4a86-b213-52eb434a68f8",
   "metadata": {},
   "outputs": [],
   "source": [
    "import numpy as np\n",
    "import matplotlib.pyplot as plt"
   ]
  },
  {
   "cell_type": "code",
   "execution_count": 53,
   "id": "6dba434d-ba0d-4ee7-9d8b-79475a59120d",
   "metadata": {},
   "outputs": [],
   "source": [
    "from tensorflow.python.compiler.mlcompute import mlcompute\n",
    "mlcompute.set_mlc_device(device_name='gpu')"
   ]
  },
  {
   "cell_type": "code",
   "execution_count": 55,
   "id": "81fd4bfd-a483-4b6b-8d85-30e25f6feda2",
   "metadata": {},
   "outputs": [
    {
     "name": "stdout",
     "output_type": "stream",
     "text": [
      "Found 12845 images belonging to 27 classes.\n",
      "Found 4271 images belonging to 27 classes.\n"
     ]
    }
   ],
   "source": [
    "from keras.preprocessing.image import ImageDataGenerator\n",
    "sz=128\n",
    "train_datagen = ImageDataGenerator(\n",
    "        rescale=1./255,\n",
    "        shear_range=0.2,\n",
    "        zoom_range=0.2,\n",
    "        horizontal_flip=True)\n",
    "\n",
    "test_datagen = ImageDataGenerator(rescale=1./255)\n",
    "\n",
    "training_set = train_datagen.flow_from_directory('data(old)/train',\n",
    "                                                 target_size=(sz, sz),\n",
    "                                                 batch_size=10,\n",
    "                                                 color_mode='grayscale',\n",
    "                                                 class_mode='categorical')\n",
    "\n",
    "test_set = test_datagen.flow_from_directory('data(old)/test',\n",
    "                                            target_size=(sz , sz),\n",
    "                                            batch_size=10,\n",
    "                                            color_mode='grayscale',\n",
    "                                            class_mode='categorical')"
   ]
  },
  {
   "cell_type": "code",
   "execution_count": 56,
   "id": "e0281dd7-e1b2-419f-b53d-cccd20557df0",
   "metadata": {},
   "outputs": [],
   "source": [
    "model = keras.models.Sequential([\n",
    "   \n",
    "    tf.keras.layers.Conv2D(32, kernel_size=(3, 3),input_shape=(sz, sz, 1),activation='relu'),\n",
    "    tf.keras.layers.MaxPooling2D(pool_size=(2, 2)),\n",
    "    tf.keras.layers.Conv2D(32, kernel_size=(3, 3),activation='relu'),\n",
    "    tf.keras.layers.MaxPooling2D(pool_size=(2, 2)),\n",
    "    tf.keras.layers.Flatten(),\n",
    "    tf.keras.layers.Dense(128, activation='relu'),\n",
    "    tf.keras.layers.Dropout(0.4),\n",
    "    tf.keras.layers.Dense(96, activation='relu'),\n",
    "    tf.keras.layers.Dropout(0.4),\n",
    "    tf.keras.layers.Dense(64, activation='relu'),\n",
    "    tf.keras.layers.Dense(27, activation='softmax')\n",
    "])\n",
    "    \n",
    "    "
   ]
  },
  {
   "cell_type": "code",
   "execution_count": 57,
   "id": "cbf3f68e-b868-4c3d-a7a7-cb4716e2b91e",
   "metadata": {
    "tags": []
   },
   "outputs": [],
   "source": [
    "model.compile(\n",
    "    loss='categorical_crossentropy',\n",
    "    optimizer=tf.keras.optimizers.Adam(0.001),\n",
    "    metrics=['accuracy']\n",
    ")"
   ]
  },
  {
   "cell_type": "code",
   "execution_count": 58,
   "id": "57b9335f-9466-4dcc-a312-c44daa51dfe1",
   "metadata": {},
   "outputs": [
    {
     "name": "stdout",
     "output_type": "stream",
     "text": [
      "Model: \"sequential_6\"\n",
      "_________________________________________________________________\n",
      "Layer (type)                 Output Shape              Param #   \n",
      "=================================================================\n",
      "conv2d_12 (Conv2D)           (None, 126, 126, 32)      320       \n",
      "_________________________________________________________________\n",
      "max_pooling2d_12 (MaxPooling (None, 63, 63, 32)        0         \n",
      "_________________________________________________________________\n",
      "conv2d_13 (Conv2D)           (None, 61, 61, 32)        9248      \n",
      "_________________________________________________________________\n",
      "max_pooling2d_13 (MaxPooling (None, 30, 30, 32)        0         \n",
      "_________________________________________________________________\n",
      "flatten_7 (Flatten)          (None, 28800)             0         \n",
      "_________________________________________________________________\n",
      "dense_24 (Dense)             (None, 128)               3686528   \n",
      "_________________________________________________________________\n",
      "dropout_12 (Dropout)         (None, 128)               0         \n",
      "_________________________________________________________________\n",
      "dense_25 (Dense)             (None, 96)                12384     \n",
      "_________________________________________________________________\n",
      "dropout_13 (Dropout)         (None, 96)                0         \n",
      "_________________________________________________________________\n",
      "dense_26 (Dense)             (None, 64)                6208      \n",
      "_________________________________________________________________\n",
      "dense_27 (Dense)             (None, 27)                1755      \n",
      "=================================================================\n",
      "Total params: 3,716,443\n",
      "Trainable params: 3,716,443\n",
      "Non-trainable params: 0\n",
      "_________________________________________________________________\n"
     ]
    }
   ],
   "source": [
    "model.summary()"
   ]
  },
  {
   "cell_type": "code",
   "execution_count": 59,
   "id": "0806af0f-8b29-4f4e-8405-471dfd463c77",
   "metadata": {},
   "outputs": [
    {
     "name": "stdout",
     "output_type": "stream",
     "text": [
      "Epoch 1/13\n",
      "1284/1285 [============================>.] - ETA: 0s - batch: 641.5000 - size: 9.9961 - loss: 3.3010 - accuracy: 0.0353"
     ]
    },
    {
     "name": "stderr",
     "output_type": "stream",
     "text": [
      "/Users/doddaballapurabhishek/miniforge3/envs/ml/lib/python3.8/site-packages/tensorflow/python/keras/engine/training.py:2325: UserWarning: `Model.state_updates` will be removed in a future version. This property should not be used in TensorFlow 2.0, as `updates` are applied automatically.\n",
      "  warnings.warn('`Model.state_updates` will be removed in a future version. '\n"
     ]
    },
    {
     "name": "stdout",
     "output_type": "stream",
     "text": [
      "1285/1285 [==============================] - 33s 25ms/step - batch: 642.0000 - size: 9.9961 - loss: 3.3010 - accuracy: 0.0353 - val_loss: 3.2958 - val_accuracy: 0.0389\n",
      "Epoch 2/13\n",
      "1285/1285 [==============================] - 32s 25ms/step - batch: 642.0000 - size: 9.9961 - loss: 1.8393 - accuracy: 0.4139 - val_loss: 0.3806 - val_accuracy: 0.8719\n",
      "Epoch 3/13\n",
      "1285/1285 [==============================] - 32s 25ms/step - batch: 642.0000 - size: 9.9961 - loss: 0.7928 - accuracy: 0.7291 - val_loss: 0.1512 - val_accuracy: 0.9593\n",
      "Epoch 4/13\n",
      "1285/1285 [==============================] - 32s 25ms/step - batch: 642.0000 - size: 9.9961 - loss: 0.5389 - accuracy: 0.8237 - val_loss: 0.0853 - val_accuracy: 0.9808\n",
      "Epoch 5/13\n",
      "1285/1285 [==============================] - 32s 25ms/step - batch: 642.0000 - size: 9.9961 - loss: 0.4527 - accuracy: 0.8501 - val_loss: 0.0625 - val_accuracy: 0.9857\n",
      "Epoch 6/13\n",
      "1285/1285 [==============================] - 32s 25ms/step - batch: 642.0000 - size: 9.9961 - loss: 0.3796 - accuracy: 0.8747 - val_loss: 0.0429 - val_accuracy: 0.9885\n",
      "Epoch 7/13\n",
      "1285/1285 [==============================] - 32s 25ms/step - batch: 642.0000 - size: 9.9961 - loss: 0.3373 - accuracy: 0.8899 - val_loss: 0.0327 - val_accuracy: 0.9892\n",
      "Epoch 8/13\n",
      "1285/1285 [==============================] - 32s 25ms/step - batch: 642.0000 - size: 9.9961 - loss: 0.3007 - accuracy: 0.9006 - val_loss: 0.0270 - val_accuracy: 0.9923\n",
      "Epoch 9/13\n",
      "1285/1285 [==============================] - 32s 25ms/step - batch: 642.0000 - size: 9.9961 - loss: 0.2943 - accuracy: 0.9089 - val_loss: 0.0279 - val_accuracy: 0.9927\n",
      "Epoch 10/13\n",
      "1285/1285 [==============================] - 32s 25ms/step - batch: 642.0000 - size: 9.9961 - loss: 0.2618 - accuracy: 0.9153 - val_loss: 0.0203 - val_accuracy: 0.9930\n",
      "Epoch 11/13\n",
      "1285/1285 [==============================] - 32s 25ms/step - batch: 642.0000 - size: 9.9961 - loss: 0.2419 - accuracy: 0.9211 - val_loss: 0.0120 - val_accuracy: 0.9972\n",
      "Epoch 12/13\n",
      "1285/1285 [==============================] - 32s 25ms/step - batch: 642.0000 - size: 9.9961 - loss: 0.2210 - accuracy: 0.9302 - val_loss: 0.0077 - val_accuracy: 0.9988\n",
      "Epoch 13/13\n",
      "1285/1285 [==============================] - 32s 25ms/step - batch: 642.0000 - size: 9.9961 - loss: 0.2146 - accuracy: 0.9328 - val_loss: 0.0118 - val_accuracy: 0.9970\n"
     ]
    },
    {
     "data": {
      "text/plain": [
       "<tensorflow.python.keras.callbacks.History at 0x2eae53610>"
      ]
     },
     "execution_count": 59,
     "metadata": {},
     "output_type": "execute_result"
    }
   ],
   "source": [
    "model.fit(\n",
    "    training_set,\n",
    "    epochs=13,\n",
    "    validation_data=test_set,\n",
    ")"
   ]
  },
  {
   "cell_type": "code",
   "execution_count": 60,
   "id": "99465b0b-1035-4624-a591-0926c110e19f",
   "metadata": {},
   "outputs": [
    {
     "name": "stdout",
     "output_type": "stream",
     "text": [
      "Model Saved\n",
      "Weights saved\n"
     ]
    }
   ],
   "source": [
    "model_json = model.to_json()\n",
    "with open(\"model-e13-abhi-data(old).json\", \"w\") as json_file:\n",
    "    json_file.write(model_json)\n",
    "print('Model Saved')\n",
    "model.save_weights('model-e13-abhi-data(old).h5')\n",
    "print('Weights saved')"
   ]
  },
  {
   "cell_type": "code",
   "execution_count": 63,
   "id": "38028033-d58b-450b-af45-676cdf1253a8",
   "metadata": {},
   "outputs": [
    {
     "data": {
      "image/png": "[encoded data removed]",
      "text/plain": [
       "<Figure size 432x288 with 1 Axes>"
      ]
     },
     "metadata": {
      "needs_background": "light"
     },
     "output_type": "display_data"
    }
   ],
   "source": [
    "plt.plot(model.history.history['loss'])\n",
    "plt.plot(model.history.history['val_loss'])\n",
    "plt.title('Model Loss')\n",
    "plt.ylabel('Loss')\n",
    "plt.xlabel('Epochs')\n",
    "plt.legend(['train', 'test'])\n",
    "plt.show()"
   ]
  },
  {
   "cell_type": "code",
   "execution_count": 64,
   "id": "0e45a32b-f56f-48ef-9a48-bfef8add7ac6",
   "metadata": {},
   "outputs": [
    {
     "data": {
      "image/png": "[encoded data removed]",
      "text/plain": [
       "<Figure size 432x288 with 1 Axes>"
      ]
     },
     "metadata": {
      "needs_background": "light"
     },
     "output_type": "display_data"
    }
   ],
   "source": [
    "plt.plot(model.history.history['accuracy'])\n",
    "plt.plot(model.history.history['val_accuracy'])\n",
    "plt.title('Model Accuracy')\n",
    "plt.ylabel('Accuracy')\n",
    "plt.xlabel('Epochs')\n",
    "plt.legend(['train', 'test'])\n",
    "plt.show()"
   ]
  },
  {
   "cell_type": "code",
   "execution_count": null,
   "id": "50626776-e30c-4b63-9a10-cc468939ce54",
   "metadata": {},
   "outputs": [],
   "source": []
  }
 ],
 "metadata": {
  "kernelspec": {
   "display_name": "Python 3",
   "language": "python",
   "name": "python3"
  },
  "language_info": {
   "codemirror_mode": {
    "name": "ipython",
    "version": 3
   },
   "file_extension": ".py",
   "mimetype": "text/x-python",
   "name": "python",
   "nbconvert_exporter": "python",
   "pygments_lexer": "ipython3",
   "version": "3.8.6"
  }
 },
 "nbformat": 4,
 "nbformat_minor": 5
}
